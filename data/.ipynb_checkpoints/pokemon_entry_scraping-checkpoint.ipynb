{
 "cells": [
  {
   "cell_type": "code",
   "execution_count": 1,
   "metadata": {},
   "outputs": [],
   "source": [
    "from splinter import Browser\n",
    "from bs4 import BeautifulSoup\n",
    "from time import sleep\n",
    "import pandas as pd\n",
    "\n",
    "poke_df = pd.read_csv(\"pokemon_info.csv\")"
   ]
  },
  {
   "cell_type": "code",
   "execution_count": 2,
   "metadata": {},
   "outputs": [],
   "source": [
    "poke_list = poke_df['name'].to_list()\n",
    "poke_names = []\n",
    "for poke in poke_list:\n",
    "    pokes = poke.lower()\n",
    "    poke_names.append(pokes)"
   ]
  },
  {
   "cell_type": "code",
   "execution_count": 3,
   "metadata": {},
   "outputs": [],
   "source": [
    "executable_path = {\"executable_path\": \"/usr/local/bin/chromedriver\"}\n",
    "browser = Browser(\"chrome\", **executable_path, headless=False)"
   ]
  },
  {
   "cell_type": "code",
   "execution_count": 4,
   "metadata": {},
   "outputs": [
    {
     "name": "stdout",
     "output_type": "stream",
     "text": [
      "Edgecase for metapod\n",
      "Edgecase for weedle\n",
      "Edgecase for nidoran♀\n",
      "Edgecase for nidoran♂\n",
      "Edgecase for primeape\n",
      "Edgecase for kangaskhan\n",
      "Edgecase for seaking\n",
      "Edgecase for mr. mime\n",
      "Edgecase for hoppip\n",
      "Edgecase for shuckle\n",
      "Edgecase for teddiursa\n",
      "Edgecase for meditite\n",
      "Edgecase for sharpedo\n",
      "Edgecase for shuppet\n",
      "Edgecase for duskull\n",
      "Edgecase for regirock\n",
      "Edgecase for regice\n",
      "Edgecase for bidoof\n",
      "Edgecase for mime jr.\n",
      "Edgecase for froakie\n",
      "Edgecase for flabébé\n",
      "Edgecase for clawitzer\n",
      "Edgecase for type: null\n",
      "Edgecase for tapu koko\n",
      "Edgecase for tapu lele\n",
      "Edgecase for tapu bulu\n",
      "Edgecase for tapu fini\n"
     ]
    }
   ],
   "source": [
    "poke_entries = []\n",
    "edge_case = []\n",
    "for poke in poke_names:\n",
    "    try:\n",
    "        url = f\"https://pokemondb.net/pokedex/{poke}\"\n",
    "        browser.visit(url)\n",
    "\n",
    "        html = browser.html\n",
    "        soup = BeautifulSoup(html, \"html.parser\")\n",
    "        results = soup.find('td', class_=\"cell-med-text\").get_text()\n",
    "        poke_entries.append(results)\n",
    "    except:\n",
    "        poke_entries.append(\"Edge_case\")\n",
    "        edge_case.append(poke)\n",
    "        print(f\"Edgecase for {poke}\")"
   ]
  },
  {
   "cell_type": "code",
   "execution_count": 9,
   "metadata": {},
   "outputs": [
    {
     "data": {
      "text/plain": [
       "801"
      ]
     },
     "execution_count": 9,
     "metadata": {},
     "output_type": "execute_result"
    }
   ],
   "source": [
    "len(poke_entries)"
   ]
  },
  {
   "cell_type": "code",
   "execution_count": 11,
   "metadata": {},
   "outputs": [
    {
     "name": "stdout",
     "output_type": "stream",
     "text": [
      "Stored 'poke_entries' (list)\n"
     ]
    }
   ],
   "source": [
    "%store poke_entries"
   ]
  },
  {
   "cell_type": "code",
   "execution_count": null,
   "metadata": {},
   "outputs": [],
   "source": []
  }
 ],
 "metadata": {
  "kernelspec": {
   "display_name": "Python 3",
   "language": "python",
   "name": "python3"
  },
  "language_info": {
   "codemirror_mode": {
    "name": "ipython",
    "version": 3
   },
   "file_extension": ".py",
   "mimetype": "text/x-python",
   "name": "python",
   "nbconvert_exporter": "python",
   "pygments_lexer": "ipython3",
   "version": "3.7.7"
  }
 },
 "nbformat": 4,
 "nbformat_minor": 4
}
